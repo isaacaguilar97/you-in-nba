{
 "cells": [
  {
   "cell_type": "markdown",
   "metadata": {},
   "source": [
    "*DECODING*"
   ]
  },
  {
   "cell_type": "code",
   "execution_count": 4,
   "metadata": {},
   "outputs": [],
   "source": [
    "import numpy as np\n",
    "from math import comb"
   ]
  },
  {
   "cell_type": "code",
   "execution_count": 74,
   "metadata": {},
   "outputs": [],
   "source": [
    "code = {}\n",
    "\n",
    "code[\" \"] = '32' # Add Space\n",
    "\n",
    "# Add all my letters\n",
    "for i in range(65,123):\n",
    "    code[str(i)] = chr(i)\n",
    "\n",
    "    \n",
    "def decode(encoded):\n",
    "    # Write your code here\n",
    "    \n",
    "    # Flip value\n",
    "    encoded = encoded[::-1]\n",
    "    \n",
    "    # Make it a list\n",
    "    new_encoded = [i for i in encoded]\n",
    "    \n",
    "    # Split my encoded text in ASCII values using prperties of python lists\n",
    "    ascii_values = []\n",
    "    for i in new_encoded:\n",
    "        temp = []\n",
    "        if i == 1:\n",
    "            temp.append(new_encoded.pop(0))\n",
    "            temp.append(new_encoded.pop(0))\n",
    "            temp.append(new_encoded.pop(0))\n",
    "        else:\n",
    "            temp.append(new_encoded.pop(0))\n",
    "            temp.append(new_encoded.pop(0))\n",
    "    ascii_values.append(temp)"
   ]
  },
  {
   "cell_type": "code",
   "execution_count": 75,
   "metadata": {},
   "outputs": [],
   "source": [
    "encoded = \"7010117928411101701997927\"\n",
    "encoded = encoded[::-1]\n",
    "copy = encoded"
   ]
  },
  {
   "cell_type": "code",
   "execution_count": 76,
   "metadata": {},
   "outputs": [
    {
     "data": {
      "text/plain": [
       "['72', '97', '99', '107', '101', '114', '82', '97', '110', '107']"
      ]
     },
     "execution_count": 76,
     "metadata": {},
     "output_type": "execute_result"
    }
   ],
   "source": [
    "# Split my encoded text in ASCII values using prperties of python lists\n",
    "ascii_values = []\n",
    "n = 0\n",
    "while n < len(encoded):\n",
    "    temp = \"\"\n",
    "    if copy[n] == \"1\":\n",
    "        temp += copy[n]\n",
    "        temp += copy[n+1]\n",
    "        temp += copy[n+2]\n",
    "        n += 3\n",
    "    else:\n",
    "        temp += copy[n]\n",
    "        temp += copy[n+1]\n",
    "        n += 2\n",
    "    ascii_values.append(temp)\n",
    "ascii_values"
   ]
  },
  {
   "cell_type": "code",
   "execution_count": 77,
   "metadata": {},
   "outputs": [],
   "source": [
    "decoded = [code[value] for value in ascii_values]"
   ]
  },
  {
   "cell_type": "code",
   "execution_count": 78,
   "metadata": {},
   "outputs": [
    {
     "data": {
      "text/plain": [
       "['H', 'a', 'c', 'k', 'e', 'r', 'R', 'a', 'n', 'k']"
      ]
     },
     "execution_count": 78,
     "metadata": {},
     "output_type": "execute_result"
    }
   ],
   "source": [
    "decoded"
   ]
  },
  {
   "cell_type": "markdown",
   "metadata": {},
   "source": [
    "*OPTIMIZATION PROBLEM*"
   ]
  },
  {
   "cell_type": "code",
   "execution_count": 80,
   "metadata": {},
   "outputs": [],
   "source": [
    "from scipy.optimize import minimize_scalar\n",
    "\n",
    "# Given values\n",
    "sales_price = 12\n",
    "cost_per_cut = 10\n",
    "rod_lengths = [10, 15, 21]"
   ]
  },
  {
   "cell_type": "code",
   "execution_count": 81,
   "metadata": {},
   "outputs": [
    {
     "name": "stdout",
     "output_type": "stream",
     "text": [
      "The optimal uniform length is: 10\n",
      "The max revenue value is 450\n"
     ]
    }
   ],
   "source": [
    "# Function to maximize (Identify variables and have them in terms of just one variable)\n",
    "def get_rev(uniform_length):\n",
    "    total_cuts = sum(rod // uniform_length - 1 + (1 if rod % uniform_length != 0 else 0) for rod in rod_lengths)\n",
    "    sale_rods = sum(rod // uniform_length for rod in rod_lengths)\n",
    "    revenue = (sales_price * sale_rods * uniform_length) - (total_cuts * cost_per_cut)\n",
    "    return -revenue  # Minimize the negative revenue (equivalent to maximizing revenue)\n",
    "\n",
    "\n",
    "# Specify bounds for uniform_length\n",
    "bounds = (1, max(rod_lengths))  # Assuming a lower bound of 1 and an upper bound of the maximum rod length\n",
    "\n",
    "# Perform the optimization\n",
    "result = minimize_scalar(get_rev, bounds=bounds, method='bounded')\n",
    "\n",
    "# Get the optimal uniform_length\n",
    "optimal_uniform_length = round(result.x)  # Round to the nearest integer\n",
    "\n",
    "# Print the result\n",
    "print(f\"The optimal uniform length is: {optimal_uniform_length}\")\n",
    "print(f\"The max revenue value is {-get_rev(10)}\")"
   ]
  }
 ],
 "metadata": {
  "kernelspec": {
   "display_name": "stat386",
   "language": "python",
   "name": "python3"
  },
  "language_info": {
   "codemirror_mode": {
    "name": "ipython",
    "version": 3
   },
   "file_extension": ".py",
   "mimetype": "text/x-python",
   "name": "python",
   "nbconvert_exporter": "python",
   "pygments_lexer": "ipython3",
   "version": "3.10.12"
  }
 },
 "nbformat": 4,
 "nbformat_minor": 2
}
