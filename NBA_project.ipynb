{
 "cells": [
  {
   "cell_type": "code",
   "execution_count": 2,
   "metadata": {},
   "outputs": [],
   "source": [
    "# Load my Packages\n",
    "import requests\n",
    "import json\n",
    "import pandas as pd\n",
    "from bs4 import BeautifulSoup"
   ]
  },
  {
   "cell_type": "code",
   "execution_count": 3,
   "metadata": {},
   "outputs": [],
   "source": [
    "# Assign hidden API key\n",
    "with open(\"api_stuff.txt\", \"r\") as file:\n",
    "    api_key = file.read()"
   ]
  },
  {
   "cell_type": "code",
   "execution_count": 13,
   "metadata": {},
   "outputs": [],
   "source": [
    "# Extract Season info from API\n",
    "urls = \"https://api-nba-v1.p.rapidapi.com/seasons\"\n",
    "\n",
    "headers = {\n",
    "\t\"X-RapidAPI-Key\": api_key,\n",
    "\t\"X-RapidAPI-Host\": \"api-nba-v1.p.rapidapi.com\"\n",
    "}\n",
    "\n",
    "seasons = requests.get(urls, headers=headers)\n",
    "s = seasons.json()['response']"
   ]
  },
  {
   "cell_type": "code",
   "execution_count": 15,
   "metadata": {},
   "outputs": [],
   "source": [
    "# Extract Teams info from API\n",
    "urlt = \"https://api-nba-v1.p.rapidapi.com/teams\"\n",
    "\n",
    "headers = {\n",
    "\t\"X-RapidAPI-Key\": api_key,\n",
    "\t\"X-RapidAPI-Host\": \"api-nba-v1.p.rapidapi.com\"\n",
    "}\n",
    "\n",
    "teams = requests.get(urlt, headers=headers)\n",
    "t_df = pd.DataFrame(teams.json()['response'])"
   ]
  },
  {
   "cell_type": "code",
   "execution_count": 24,
   "metadata": {},
   "outputs": [],
   "source": [
    "# Get players info from API\n",
    "urlp = \"https://api-nba-v1.p.rapidapi.com/players\"\n",
    "\n",
    "querystring = {\"team\":\"1\", \"season\":\"2021\"}\n",
    "\n",
    "headers = {\n",
    "\t\"X-RapidAPI-Key\": api_key,\n",
    "\t\"X-RapidAPI-Host\": \"api-nba-v1.p.rapidapi.com\"\n",
    "}\n",
    "\n",
    "players = requests.get(urlp, headers=headers, params=querystring)\n",
    "p_df = pd.DataFrame(players.json()['response'])"
   ]
  },
  {
   "cell_type": "code",
   "execution_count": 31,
   "metadata": {},
   "outputs": [],
   "source": [
    "# Get Player Stats per game info from API\n",
    "urlps = \"https://api-nba-v1.p.rapidapi.com/players/statistics\"\n",
    "\n",
    "querystring = {\"id\":\"236\",\"season\":\"2020\"}\n",
    "\n",
    "headers = {\n",
    "\t\"X-RapidAPI-Key\": api_key,\n",
    "\t\"X-RapidAPI-Host\": \"api-nba-v1.p.rapidapi.com\"\n",
    "}\n",
    "\n",
    "player_stats = requests.get(urlps, headers=headers, params=querystring)\n",
    "ps = pd.DataFrame(player_stats.json()['response'])"
   ]
  },
  {
   "cell_type": "code",
   "execution_count": 34,
   "metadata": {},
   "outputs": [],
   "source": [
    "# Create my desired table"
   ]
  }
 ],
 "metadata": {
  "kernelspec": {
   "display_name": "stat386",
   "language": "python",
   "name": "python3"
  },
  "language_info": {
   "codemirror_mode": {
    "name": "ipython",
    "version": 3
   },
   "file_extension": ".py",
   "mimetype": "text/x-python",
   "name": "python",
   "nbconvert_exporter": "python",
   "pygments_lexer": "ipython3",
   "version": "3.11.4"
  }
 },
 "nbformat": 4,
 "nbformat_minor": 2
}
